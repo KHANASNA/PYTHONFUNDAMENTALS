{
 "cells": [
  {
   "cell_type": "code",
   "execution_count": null,
   "id": "a1122cbf",
   "metadata": {},
   "outputs": [],
   "source": [
    "introduction to string methods"
   ]
  },
  {
   "cell_type": "code",
   "execution_count": 1,
   "id": "40fcd724",
   "metadata": {},
   "outputs": [],
   "source": [
    "name= ('kumar')"
   ]
  },
  {
   "cell_type": "code",
   "execution_count": 2,
   "id": "c0639801",
   "metadata": {},
   "outputs": [
    {
     "name": "stdout",
     "output_type": "stream",
     "text": [
      "kumar\n"
     ]
    }
   ],
   "source": [
    "print(name)"
   ]
  },
  {
   "cell_type": "code",
   "execution_count": 3,
   "id": "a41a2687",
   "metadata": {},
   "outputs": [
    {
     "data": {
      "text/plain": [
       "str"
      ]
     },
     "execution_count": 3,
     "metadata": {},
     "output_type": "execute_result"
    }
   ],
   "source": [
    "type(name)"
   ]
  },
  {
   "cell_type": "code",
   "execution_count": 4,
   "id": "7c7bf187",
   "metadata": {},
   "outputs": [],
   "source": [
    "fullname=('asna khan')"
   ]
  },
  {
   "cell_type": "code",
   "execution_count": 5,
   "id": "05b1d432",
   "metadata": {},
   "outputs": [
    {
     "name": "stdout",
     "output_type": "stream",
     "text": [
      "asna khan\n"
     ]
    }
   ],
   "source": [
    "print(fullname)"
   ]
  },
  {
   "cell_type": "code",
   "execution_count": 6,
   "id": "a60a20a1",
   "metadata": {},
   "outputs": [
    {
     "name": "stdout",
     "output_type": "stream",
     "text": [
      "Asna Khan\n"
     ]
    }
   ],
   "source": [
    "print(fullname.title())"
   ]
  },
  {
   "cell_type": "code",
   "execution_count": null,
   "id": "55d65779",
   "metadata": {},
   "outputs": [],
   "source": [
    "#req : i want to get the fullname in capital letters"
   ]
  },
  {
   "cell_type": "code",
   "execution_count": 7,
   "id": "33d1cb7d",
   "metadata": {},
   "outputs": [
    {
     "name": "stdout",
     "output_type": "stream",
     "text": [
      "ASNA KHAN\n"
     ]
    }
   ],
   "source": [
    "print(fullname.upper())"
   ]
  },
  {
   "cell_type": "code",
   "execution_count": null,
   "id": "8e2b4458",
   "metadata": {},
   "outputs": [],
   "source": [
    "#req : i want to get the full name in small letters"
   ]
  },
  {
   "cell_type": "code",
   "execution_count": 8,
   "id": "0b124795",
   "metadata": {},
   "outputs": [
    {
     "name": "stdout",
     "output_type": "stream",
     "text": [
      "asna khan\n"
     ]
    }
   ],
   "source": [
    "print(fullname.lower())"
   ]
  },
  {
   "cell_type": "code",
   "execution_count": null,
   "id": "eecb5e5f",
   "metadata": {},
   "outputs": [],
   "source": [
    "introductions to f strings"
   ]
  },
  {
   "cell_type": "code",
   "execution_count": null,
   "id": "57fb6a62",
   "metadata": {},
   "outputs": [],
   "source": [
    "# general syntax for the f strings"
   ]
  },
  {
   "cell_type": "code",
   "execution_count": null,
   "id": "aa4d0b03",
   "metadata": {},
   "outputs": [],
   "source": [
    "f \"custom message {placeholder1}{placeholder2}{placeholder3}.......{placeholder...n}\""
   ]
  },
  {
   "cell_type": "code",
   "execution_count": 10,
   "id": "b2f8e8ae",
   "metadata": {},
   "outputs": [],
   "source": [
    "firstname = 'asna'\n",
    "lastname = 'khan'"
   ]
  },
  {
   "cell_type": "code",
   "execution_count": null,
   "id": "bfc1ee04",
   "metadata": {},
   "outputs": [],
   "source": [
    "#req : get the fullname"
   ]
  },
  {
   "cell_type": "code",
   "execution_count": 11,
   "id": "5698b8e1",
   "metadata": {},
   "outputs": [
    {
     "ename": "SyntaxError",
     "evalue": "invalid syntax (4025744871.py, line 1)",
     "output_type": "error",
     "traceback": [
      "\u001b[1;36m  Input \u001b[1;32mIn [11]\u001b[1;36m\u001b[0m\n\u001b[1;33m    full_name = f \"{firstname}{lastname}\"\u001b[0m\n\u001b[1;37m                  ^\u001b[0m\n\u001b[1;31mSyntaxError\u001b[0m\u001b[1;31m:\u001b[0m invalid syntax\n"
     ]
    }
   ],
   "source": [
    "full_name = f \"{firstname}{lastname}\"\n",
    "print(full_name)"
   ]
  },
  {
   "cell_type": "code",
   "execution_count": 12,
   "id": "505e47db",
   "metadata": {},
   "outputs": [
    {
     "ename": "SyntaxError",
     "evalue": "invalid syntax (4025744871.py, line 1)",
     "output_type": "error",
     "traceback": [
      "\u001b[1;36m  Input \u001b[1;32mIn [12]\u001b[1;36m\u001b[0m\n\u001b[1;33m    full_name = f \"{firstname}{lastname}\"\u001b[0m\n\u001b[1;37m                  ^\u001b[0m\n\u001b[1;31mSyntaxError\u001b[0m\u001b[1;31m:\u001b[0m invalid syntax\n"
     ]
    }
   ],
   "source": [
    "full_name = f \"{firstname}{lastname}\"\n",
    "print(full_name)"
   ]
  },
  {
   "cell_type": "code",
   "execution_count": 13,
   "id": "2d119a02",
   "metadata": {},
   "outputs": [],
   "source": [
    "firstname = 'asna'\n",
    "lastname = 'khan'"
   ]
  },
  {
   "cell_type": "code",
   "execution_count": 14,
   "id": "8813874d",
   "metadata": {},
   "outputs": [
    {
     "ename": "SyntaxError",
     "evalue": "invalid syntax (4025744871.py, line 1)",
     "output_type": "error",
     "traceback": [
      "\u001b[1;36m  Input \u001b[1;32mIn [14]\u001b[1;36m\u001b[0m\n\u001b[1;33m    full_name = f \"{firstname}{lastname}\"\u001b[0m\n\u001b[1;37m                  ^\u001b[0m\n\u001b[1;31mSyntaxError\u001b[0m\u001b[1;31m:\u001b[0m invalid syntax\n"
     ]
    }
   ],
   "source": [
    "full_name = f \"{firstname}{lastname}\"\n",
    "print(full_name)"
   ]
  },
  {
   "cell_type": "code",
   "execution_count": 15,
   "id": "1a79c426",
   "metadata": {},
   "outputs": [],
   "source": [
    "firstname= 'asna'\n",
    "lastname= 'khan'"
   ]
  },
  {
   "cell_type": "code",
   "execution_count": 16,
   "id": "dc01cbfa",
   "metadata": {},
   "outputs": [
    {
     "name": "stdout",
     "output_type": "stream",
     "text": [
      "asna khan\n"
     ]
    }
   ],
   "source": [
    "full_name= f\"{firstname} {lastname}\"\n",
    "print(full_name)"
   ]
  },
  {
   "cell_type": "code",
   "execution_count": 17,
   "id": "8ec8429e",
   "metadata": {},
   "outputs": [
    {
     "name": "stdout",
     "output_type": "stream",
     "text": [
      "Asna Khan\n"
     ]
    }
   ],
   "source": [
    "print(full_name.title())"
   ]
  },
  {
   "cell_type": "code",
   "execution_count": 18,
   "id": "9ee53641",
   "metadata": {},
   "outputs": [
    {
     "name": "stdout",
     "output_type": "stream",
     "text": [
      "keep up the good work, Asna Khan\n"
     ]
    }
   ],
   "source": [
    "message= f\"keep up the good work, {full_name.title()}\"\n",
    "print(message)"
   ]
  },
  {
   "cell_type": "code",
   "execution_count": null,
   "id": "e54904f1",
   "metadata": {},
   "outputs": [],
   "source": [
    "adding whitespaces to strings:"
   ]
  },
  {
   "cell_type": "code",
   "execution_count": 19,
   "id": "5bce7166",
   "metadata": {},
   "outputs": [
    {
     "name": "stdout",
     "output_type": "stream",
     "text": [
      "favorite_language:\n",
      "python\n",
      "C++\n",
      "java\n",
      "C\n",
      "pascal\n",
      "cobal\n"
     ]
    }
   ],
   "source": [
    "print('favorite_language:\\npython\\nC++\\njava\\nC\\npascal\\ncobal')"
   ]
  },
  {
   "cell_type": "code",
   "execution_count": null,
   "id": "d8e1d1a2",
   "metadata": {},
   "outputs": [],
   "source": []
  }
 ],
 "metadata": {
  "kernelspec": {
   "display_name": "Python 3 (ipykernel)",
   "language": "python",
   "name": "python3"
  },
  "language_info": {
   "codemirror_mode": {
    "name": "ipython",
    "version": 3
   },
   "file_extension": ".py",
   "mimetype": "text/x-python",
   "name": "python",
   "nbconvert_exporter": "python",
   "pygments_lexer": "ipython3",
   "version": "3.9.12"
  }
 },
 "nbformat": 4,
 "nbformat_minor": 5
}
